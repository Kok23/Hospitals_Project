{
 "cells": [
  {
   "cell_type": "markdown",
   "id": "89286527-97df-40ac-b88b-45b1dda150f4",
   "metadata": {},
   "source": [
    "# Predicting 30-Day Patient Readmission Rates: A Data-Driven Approach to Improve Hospital Efficiency\n"
   ]
  },
  {
   "cell_type": "markdown",
   "id": "77df04a5-b119-4d8f-9775-aa2041a56e29",
   "metadata": {},
   "source": [
    "### Can we predict which patients are at risk of being readmitted within 30 days of discharge based on their initial treatment and follow-up care data?  \n"
   ]
  },
  {
   "cell_type": "markdown",
   "id": "86cc7a59-5caf-4bd2-81a5-4af69dbdf43c",
   "metadata": {},
   "source": [
    "|Analytic Approach| \n",
    "|-----------------|\n",
    "|Given that our problem is a binary classification problem (predicting whether a patient will be readmitted within 30 days or not), we can use supervised machine-learning techniques. These techniques will allow us to train a model on historical data and then use this model to make predictions on new data.|\n"
   ]
  },
  {
   "cell_type": "markdown",
   "id": "2c6d8b2d-df26-4f9b-a2ae-ba6a0e39d04c",
   "metadata": {},
   "source": [
    "|Data Requirements|\n",
    "|-----------------|\n",
    "|We would need patient data that includes demographics (age, gender, etc.), medical history, details of the current hospital stay (length of stay, treatments received, etc.), and whether the patient was readmitted within 30 days. Other useful data might include socioeconomic factors, lifestyle factors (smoking, alcohol use, etc.), and details about the patient’s follow-up care.|"
   ]
  },
  {
   "cell_type": "markdown",
   "id": "48b16d99-832a-4689-a7b3-fc7aa82ac933",
   "metadata": {},
   "source": [
    "|Data Collection|\n",
    "|---------------|\n",
    "|This data could be collected from the hospital’s electronic health record (EHR) system. We might also need to integrate data from other sources, such as national health databases or surveys to gather information on socioeconomic and lifestyle factors.|"
   ]
  },
  {
   "cell_type": "markdown",
   "id": "87493eb3-f88e-4726-8c11-f2ef6855b1f3",
   "metadata": {},
   "source": [
    "|Data Understanding and Preparation|\n",
    "|----------------------------------|\n",
    "|This stage involves exploring the data to understand its structure, quality, and distribution. We would also need to clean the data (handle missing values, remove outliers, etc.), transform variables if necessary (e.g., standardizing or normalizing variables), and create new variables (e.g., a binary variable indicating whether a patient was readmitted within 30 days).|"
   ]
  },
  {
   "cell_type": "markdown",
   "id": "15b6da49-fcee-4352-88cd-4636132a235f",
   "metadata": {},
   "source": [
    "|Modelling and Evaluation|\n",
    "|------------------------|\n",
    "|We would split our data into a training set and a test set. The training set is used to train the model, while the test set is used to evaluate its performance. We could use various machine learning models (e.g., logistic regression, decision trees, random forests, gradient boosting) and select the one that performs best based on a chosen metric (e.g., accuracy, precision, recall, AUC-ROC). It’s also important to validate our model using cross-validation to ensure it generalizes well to new data.|"
   ]
  },
  {
   "cell_type": "markdown",
   "id": "3337f68b",
   "metadata": {},
   "source": [
    "# Dataset"
   ]
  },
  {
   "cell_type": "markdown",
   "id": "912bfba4",
   "metadata": {},
   "source": [
    "### Based on our project requirements, the dataset should include:"
   ]
  },
  {
   "cell_type": "markdown",
   "id": "ea729c76",
   "metadata": {},
   "source": [
    "- Demographics: Age, gender\n",
    "- Medical History: previous conditions, number of previous admissions\n",
    "- Current Hospital Stay: Length of stay, treatments received, cost\n",
    "- Socioeconomic Factors: income level, employment status\n",
    "- Lifestyle Factors: smoking, alcohol use\n",
    "- Follow-Up care: number of follow-up appointments, compliance with medication\n",
    "- Target Variable: readmitted within 30 days (binary)"
   ]
  },
  {
   "cell_type": "markdown",
   "id": "71a3206b",
   "metadata": {},
   "source": [
    "### Data Collection"
   ]
  },
  {
   "cell_type": "code",
   "execution_count": 4,
   "id": "b6b7ed73",
   "metadata": {},
   "outputs": [
    {
     "name": "stdout",
     "output_type": "stream",
     "text": [
      "   age  gender  previous_conditions  previous_admissions  length_of_stay  \\\n",
      "0   69    Male                    0                    0               2   \n",
      "1   32    Male                    3                    3              27   \n",
      "2   89  Female                    1                    1               9   \n",
      "3   78    Male                    0                    1              29   \n",
      "4   38    Male                    2                    2               9   \n",
      "\n",
      "   treatment_cost income_level employment_status  smoking  alcohol_use  \\\n",
      "0     3817.318619         High          Employed        0            0   \n",
      "1    48779.485107          Low        Unemployed        1            1   \n",
      "2    40940.208410         High          Employed        1            1   \n",
      "3    42701.097352       Medium        Unemployed        0            0   \n",
      "4    46929.278956          Low          Employed        0            0   \n",
      "\n",
      "   follow_up_appointments  medication_compliance  readmitted_30_days  \n",
      "0                       3                      1                   1  \n",
      "1                       0                      1                   0  \n",
      "2                       4                      0                   0  \n",
      "3                       1                      0                   0  \n",
      "4                       4                      1                   0  \n"
     ]
    }
   ],
   "source": [
    "import pandas as pd\n",
    "\n",
    "data = pd.read_csv('patient_data.csv')\n",
    "print(data.head())"
   ]
  },
  {
   "cell_type": "markdown",
   "id": "c5a55944",
   "metadata": {},
   "source": [
    "### Load and Explore the Dataset"
   ]
  },
  {
   "cell_type": "code",
   "execution_count": 5,
   "id": "9e6077dc",
   "metadata": {},
   "outputs": [
    {
     "name": "stdout",
     "output_type": "stream",
     "text": [
      "<class 'pandas.core.frame.DataFrame'>\n",
      "RangeIndex: 1000 entries, 0 to 999\n",
      "Data columns (total 13 columns):\n",
      " #   Column                  Non-Null Count  Dtype  \n",
      "---  ------                  --------------  -----  \n",
      " 0   age                     1000 non-null   int64  \n",
      " 1   gender                  1000 non-null   object \n",
      " 2   previous_conditions     1000 non-null   int64  \n",
      " 3   previous_admissions     1000 non-null   int64  \n",
      " 4   length_of_stay          1000 non-null   int64  \n",
      " 5   treatment_cost          1000 non-null   float64\n",
      " 6   income_level            1000 non-null   object \n",
      " 7   employment_status       1000 non-null   object \n",
      " 8   smoking                 1000 non-null   int64  \n",
      " 9   alcohol_use             1000 non-null   int64  \n",
      " 10  follow_up_appointments  1000 non-null   int64  \n",
      " 11  medication_compliance   1000 non-null   int64  \n",
      " 12  readmitted_30_days      1000 non-null   int64  \n",
      "dtypes: float64(1), int64(9), object(3)\n",
      "memory usage: 101.7+ KB\n",
      "None\n",
      "               age  previous_conditions  previous_admissions  length_of_stay  \\\n",
      "count  1000.000000          1000.000000          1000.000000     1000.000000   \n",
      "mean     52.881000             2.040000             4.432000       15.550000   \n",
      "std      20.958915             1.424229             2.841734        8.411079   \n",
      "min      18.000000             0.000000             0.000000        1.000000   \n",
      "25%      34.750000             1.000000             2.000000        8.000000   \n",
      "50%      52.500000             2.000000             4.000000       16.000000   \n",
      "75%      71.000000             3.000000             7.000000       23.000000   \n",
      "max      89.000000             4.000000             9.000000       29.000000   \n",
      "\n",
      "       treatment_cost      smoking  alcohol_use  follow_up_appointments  \\\n",
      "count     1000.000000  1000.000000  1000.000000             1000.000000   \n",
      "mean     24431.186410     0.506000     0.503000                1.896000   \n",
      "std      14132.680589     0.500214     0.500241                1.446124   \n",
      "min        501.520583     0.000000     0.000000                0.000000   \n",
      "25%      12065.120585     0.000000     0.000000                1.000000   \n",
      "50%      24116.184577     1.000000     1.000000                2.000000   \n",
      "75%      36557.889485     1.000000     1.000000                3.000000   \n",
      "max      49978.106311     1.000000     1.000000                4.000000   \n",
      "\n",
      "       medication_compliance  readmitted_30_days  \n",
      "count            1000.000000          1000.00000  \n",
      "mean                0.472000             0.26400  \n",
      "std                 0.499465             0.44102  \n",
      "min                 0.000000             0.00000  \n",
      "25%                 0.000000             0.00000  \n",
      "50%                 0.000000             0.00000  \n",
      "75%                 1.000000             1.00000  \n",
      "max                 1.000000             1.00000  \n",
      "age                       0\n",
      "gender                    0\n",
      "previous_conditions       0\n",
      "previous_admissions       0\n",
      "length_of_stay            0\n",
      "treatment_cost            0\n",
      "income_level              0\n",
      "employment_status         0\n",
      "smoking                   0\n",
      "alcohol_use               0\n",
      "follow_up_appointments    0\n",
      "medication_compliance     0\n",
      "readmitted_30_days        0\n",
      "dtype: int64\n"
     ]
    }
   ],
   "source": [
    "print(data.info())\n",
    "print(data.describe())\n",
    "print(data.isnull().sum())"
   ]
  },
  {
   "cell_type": "markdown",
   "id": "42a581b4",
   "metadata": {},
   "source": [
    "### Encode Categorical Variables"
   ]
  },
  {
   "cell_type": "code",
   "execution_count": 8,
   "id": "f2af100a",
   "metadata": {},
   "outputs": [
    {
     "name": "stdout",
     "output_type": "stream",
     "text": [
      "   age  previous_conditions  previous_admissions  length_of_stay  \\\n",
      "0   69                    0                    0               2   \n",
      "1   32                    3                    3              27   \n",
      "2   89                    1                    1               9   \n",
      "3   78                    0                    1              29   \n",
      "4   38                    2                    2               9   \n",
      "\n",
      "   treatment_cost  smoking  alcohol_use  follow_up_appointments  \\\n",
      "0     3817.318619        0            0                       3   \n",
      "1    48779.485107        1            1                       0   \n",
      "2    40940.208410        1            1                       4   \n",
      "3    42701.097352        0            0                       1   \n",
      "4    46929.278956        0            0                       4   \n",
      "\n",
      "   medication_compliance  readmitted_30_days  gender_Male  income_level_Low  \\\n",
      "0                      1                   1            1                 0   \n",
      "1                      1                   0            1                 1   \n",
      "2                      0                   0            0                 0   \n",
      "3                      0                   0            1                 0   \n",
      "4                      1                   0            1                 1   \n",
      "\n",
      "   income_level_Medium  employment_status_Retired  \\\n",
      "0                    0                          0   \n",
      "1                    0                          0   \n",
      "2                    0                          0   \n",
      "3                    1                          0   \n",
      "4                    0                          0   \n",
      "\n",
      "   employment_status_Unemployed  \n",
      "0                             0  \n",
      "1                             1  \n",
      "2                             0  \n",
      "3                             1  \n",
      "4                             0  \n"
     ]
    }
   ],
   "source": [
    "data = pd.get_dummies(data, columns=['gender', 'income_level', 'employment_status'], drop_first=True)\n",
    "print(data.head())"
   ]
  },
  {
   "cell_type": "markdown",
   "id": "234c6b1b",
   "metadata": {},
   "source": [
    "### Split the Data into Training and Test Sets"
   ]
  },
  {
   "cell_type": "code",
   "execution_count": 9,
   "id": "e7ab81e4",
   "metadata": {},
   "outputs": [
    {
     "name": "stdout",
     "output_type": "stream",
     "text": [
      "(800, 14) (200, 14) (800,) (200,)\n"
     ]
    }
   ],
   "source": [
    "from sklearn.model_selection import train_test_split\n",
    "\n",
    "X = data.drop(columns=['readmitted_30_days'])\n",
    "y = data['readmitted_30_days']\n",
    "\n",
    "X_train, X_test, y_train, y_test = train_test_split(X, y, test_size=0.2, random_state=42)\n",
    "\n",
    "print(X_train.shape, X_test.shape, y_train.shape, y_test.shape)"
   ]
  },
  {
   "cell_type": "markdown",
   "id": "74d9e44d",
   "metadata": {},
   "source": [
    "### Train and Evaluate Machine Learning Models"
   ]
  },
  {
   "cell_type": "markdown",
   "id": "2d238e83",
   "metadata": {},
   "source": [
    "**Logistic Regression**"
   ]
  },
  {
   "cell_type": "code",
   "execution_count": 14,
   "id": "6bc42dce",
   "metadata": {},
   "outputs": [
    {
     "name": "stdout",
     "output_type": "stream",
     "text": [
      "Accuracy: 0.765\n",
      "Precision: 0.0\n",
      "Recall: 0.0\n",
      "AUC-ROC: 0.5\n"
     ]
    },
    {
     "name": "stderr",
     "output_type": "stream",
     "text": [
      "C:\\Users\\eluser\\anaconda3\\lib\\site-packages\\sklearn\\metrics\\_classification.py:1318: UndefinedMetricWarning: Precision is ill-defined and being set to 0.0 due to no predicted samples. Use `zero_division` parameter to control this behavior.\n",
      "  _warn_prf(average, modifier, msg_start, len(result))\n"
     ]
    }
   ],
   "source": [
    "from sklearn.linear_model import LogisticRegression\n",
    "from sklearn.metrics import accuracy_score, precision_score, recall_score, roc_auc_score\n",
    "\n",
    "model = LogisticRegression()\n",
    "\n",
    "model.fit(X_train, y_train)\n",
    "y_pred = model.predict(X_test)\n",
    "\n",
    "accuracy = accuracy_score(y_test, y_pred)\n",
    "precision = precision_score(y_test, y_pred)\n",
    "recall = recall_score(y_test, y_pred)\n",
    "roc_auc = roc_auc_score(y_test, y_pred)\n",
    "\n",
    "print(f'Accuracy: {accuracy}')\n",
    "print(f'Precision: {precision}')\n",
    "print(f'Recall: {recall}')\n",
    "print(f'AUC-ROC: {roc_auc}')"
   ]
  },
  {
   "cell_type": "markdown",
   "id": "974d6f60",
   "metadata": {},
   "source": [
    "**Random Forest and Gradient Boosting**"
   ]
  },
  {
   "cell_type": "code",
   "execution_count": 12,
   "id": "1fa834e3",
   "metadata": {},
   "outputs": [
    {
     "name": "stdout",
     "output_type": "stream",
     "text": [
      "Random Forest AUC-ROC Scores: [0.50571172 0.50616095 0.52348864 0.56879733 0.46010915]\n",
      "Mean Random Forest AUC-ROC Score: 0.5128535584398117\n",
      "Gradient Boosting AUC-ROC Scores: [0.48568862 0.45757926 0.42112694 0.57386728 0.54378898]\n",
      "Mean Gradient Boosting AUC-ROC Score: 0.4964102157161457\n"
     ]
    }
   ],
   "source": [
    "from sklearn.ensemble import RandomForestClassifier, GradientBoostingClassifier\n",
    "from sklearn.model_selection import cross_val_score\n",
    "\n",
    "rf_model = RandomForestClassifier(random_state=42)\n",
    "gb_model = GradientBoostingClassifier(random_state=42)\n",
    "\n",
    "rf_scores = cross_val_score(rf_model, X, y, cv=5, scoring='roc_auc')\n",
    "gb_scores = cross_val_score(gb_model, X, y, cv=5, scoring='roc_auc')\n",
    "\n",
    "print(f'Random Forest AUC-ROC Scores: {rf_scores}')\n",
    "print(f'Mean Random Forest AUC-ROC Score: {rf_scores.mean()}')\n",
    "print(f'Gradient Boosting AUC-ROC Scores: {gb_scores}')\n",
    "print(f'Mean Gradient Boosting AUC-ROC Score: {gb_scores.mean()}')"
   ]
  },
  {
   "cell_type": "markdown",
   "id": "bde0664f",
   "metadata": {},
   "source": [
    "**Hyperparameter Tuning with GridSearchCV**"
   ]
  },
  {
   "cell_type": "code",
   "execution_count": 13,
   "id": "62422617",
   "metadata": {},
   "outputs": [
    {
     "name": "stdout",
     "output_type": "stream",
     "text": [
      "Best Parameters: {'learning_rate': 0.01, 'max_depth': 3, 'n_estimators': 100}\n",
      "Best AUC-ROC Score: 0.5460505563001552\n"
     ]
    }
   ],
   "source": [
    "from sklearn.model_selection import GridSearchCV\n",
    "\n",
    "param_grid = {\n",
    "    'n_estimators':[100, 200],\n",
    "    'learning_rate':[0.01, 0.1, 0.2],\n",
    "    'max_depth': [3, 5, 7]\n",
    "}\n",
    "\n",
    "grid_search = GridSearchCV(gb_model, param_grid, cv=5, scoring='roc_auc')\n",
    "grid_search.fit(X_train, y_train)\n",
    "\n",
    "print(f'Best Parameters: {grid_search.best_params_}')\n",
    "print(f'Best AUC-ROC Score: {grid_search.best_score_}')"
   ]
  },
  {
   "cell_type": "markdown",
   "id": "896b2ed8",
   "metadata": {},
   "source": [
    "**Finalize and Save the Model**"
   ]
  },
  {
   "cell_type": "code",
   "execution_count": 16,
   "id": "92c49c8f",
   "metadata": {},
   "outputs": [
    {
     "name": "stdout",
     "output_type": "stream",
     "text": [
      "Final Accuracy: 0.76\n",
      "Final Precision: 0.3333333333333333\n",
      "Final Recall: 0.02127659574468085\n",
      "Final AUC-ROC: 0.5041023501599221\n"
     ]
    }
   ],
   "source": [
    "final_model = GradientBoostingClassifier(**grid_search.best_params_, random_state=42)\n",
    "final_model.fit(X_train, y_train)\n",
    "\n",
    "final_y_pred = final_model.predict(X_test)\n",
    "\n",
    "final_accuracy = accuracy_score(y_test, final_y_pred)\n",
    "final_precision = precision_score(y_test, final_y_pred)\n",
    "final_recall = recall_score(y_test, final_y_pred)\n",
    "final_roc_auc = roc_auc_score(y_test, final_y_pred)\n",
    "\n",
    "print(f'Final Accuracy: {final_accuracy}')\n",
    "print(f'Final Precision: {final_precision}')\n",
    "print(f'Final Recall: {final_recall}')\n",
    "print(f'Final AUC-ROC: {final_roc_auc}')"
   ]
  },
  {
   "cell_type": "code",
   "execution_count": 17,
   "id": "9bd4dd91",
   "metadata": {},
   "outputs": [
    {
     "data": {
      "text/plain": [
       "['final_model.joblib']"
      ]
     },
     "execution_count": 17,
     "metadata": {},
     "output_type": "execute_result"
    }
   ],
   "source": [
    "import joblib\n",
    "\n",
    "joblib.dump(final_model, 'final_model.joblib')"
   ]
  },
  {
   "cell_type": "markdown",
   "id": "18e953e6",
   "metadata": {},
   "source": [
    "# Summary"
   ]
  },
  {
   "cell_type": "markdown",
   "id": "1d33c020",
   "metadata": {},
   "source": [
    "|What we have done|\n",
    "|-----------------------------------------------------------------------------|\n",
    "|We have successfully created a synthetic dataset, loaded and explored the data, prepared it for modeling, trained and evaluated multiple machine learning models, selected and tuned the best model, and saved the final model for daployment. This workflow can be applied to real data once it is available.|"
   ]
  }
 ],
 "metadata": {
  "kernelspec": {
   "display_name": "Python 3 (ipykernel)",
   "language": "python",
   "name": "python3"
  },
  "language_info": {
   "codemirror_mode": {
    "name": "ipython",
    "version": 3
   },
   "file_extension": ".py",
   "mimetype": "text/x-python",
   "name": "python",
   "nbconvert_exporter": "python",
   "pygments_lexer": "ipython3",
   "version": "3.9.13"
  }
 },
 "nbformat": 4,
 "nbformat_minor": 5
}
